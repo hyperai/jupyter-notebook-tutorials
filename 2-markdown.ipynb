{
 "cells": [
  {
   "cell_type": "markdown",
   "metadata": {},
   "source": [
    "# 标记（Markdown）"
   ]
  },
  {
   "cell_type": "markdown",
   "metadata": {},
   "source": [
    "Cells 的两种常见类型是代码（code）和文本（text），其中 text cell 使用标记语法（markdown syntax）。<br>\n",
    "Markdown 是一种轻量级流行的 Markup 语言，它是数据科学家和分析人员的写作标准。它通常被 Markdown 处理器转换为相应的 HTML，从而使它可以在不同的设备和人们之间轻松共享。<br>\n",
    "标记语言类似于超文本标记语言（HTML），它由开始标记 `<tagname>` 和结束标记 `</ tagname>` 组成。"
   ]
  },
  {
   "cell_type": "markdown",
   "metadata": {},
   "source": [
    "## 标题和块引用"
   ]
  },
  {
   "cell_type": "markdown",
   "metadata": {},
   "source": [
    "标题通常以 `#` 和空格开头，其后跟一个空格，标题共有六级，对应 `#` 的数量。例如，五级标题的写法为 `##### 五级标题`。"
   ]
  },
  {
   "cell_type": "markdown",
   "metadata": {},
   "source": [
    "##### 五级标题"
   ]
  },
  {
   "cell_type": "markdown",
   "metadata": {},
   "source": [
    "块引用通常以 `>` 开头，使用这种方法可以进行 cells 的缩进，如下方就是一个二次缩进的 text cell。"
   ]
  },
  {
   "cell_type": "markdown",
   "metadata": {},
   "source": [
    ">> 二次缩进"
   ]
  },
  {
   "cell_type": "markdown",
   "metadata": {},
   "source": [
    "## 使用 HTML 语法"
   ]
  },
  {
   "cell_type": "markdown",
   "metadata": {},
   "source": [
    "在 markdown 类型的 cell 中，你可以使用大多数 HTML 标签等语法，如使用 `<br>` 换行，使用 `<hr>` 画水平线等。<br>\n",
    "如果想了解更多 HTML 语法，可以浏览 HTML 教程。"
   ]
  },
  {
   "cell_type": "markdown",
   "metadata": {},
   "source": [
    "## 列表和表格"
   ]
  },
  {
   "cell_type": "markdown",
   "metadata": {},
   "source": [
    "无序列表以 `*` 开头，有序列表以 `1.` 开头，后跟空格。（有序列表实际上可以使用任意数字加 `.` 加空格的形式）"
   ]
  },
  {
   "cell_type": "markdown",
   "metadata": {},
   "source": [
    "* 无序第一行\n",
    "* 无序第二行\n",
    "1. 有序第一行\n",
    "1. 有序第二行\n",
    "4. 有序第三行\n"
   ]
  },
  {
   "cell_type": "markdown",
   "metadata": {},
   "source": [
    "表格的格式较为复杂，见下方的例子。"
   ]
  },
  {
   "cell_type": "markdown",
   "metadata": {},
   "source": [
    "```\n",
    "第一列名称          | 第二列名称 \n",
    "-------------------|------------------\n",
    "第1行，第1列        | 第1行，第2列\n",
    "第2行，第1列        | 第2行，第2列 \n",
    "```"
   ]
  },
  {
   "cell_type": "markdown",
   "metadata": {},
   "source": [
    "第一列名称          | 第二列名称 \n",
    "-------------------|------------------\n",
    "第1行，第1列        | 第1行，第2列\n",
    "第2行，第1列        | 第2行，第2列 "
   ]
  },
  {
   "cell_type": "markdown",
   "metadata": {},
   "source": [
    "## 代码块"
   ]
  },
  {
   "cell_type": "markdown",
   "metadata": {},
   "source": [
    "可以使用下方的方式用 markdown 语法表示代码块。"
   ]
  },
  {
   "cell_type": "markdown",
   "metadata": {},
   "source": [
    "```python\n",
    "print(\"a\")\n",
    "```"
   ]
  },
  {
   "cell_type": "markdown",
   "metadata": {},
   "source": [
    "```python\n",
    "print(\"a\")\n",
    "```"
   ]
  },
  {
   "cell_type": "markdown",
   "metadata": {},
   "source": [
    "## 其他使用"
   ]
  },
  {
   "cell_type": "markdown",
   "metadata": {},
   "source": [
    "将文本用一对 `**` 包起来，可以加粗。"
   ]
  },
  {
   "cell_type": "markdown",
   "metadata": {},
   "source": [
    "**加粗文本**"
   ]
  },
  {
   "cell_type": "markdown",
   "metadata": {},
   "source": [
    "将文本用一对 `*` 或 `_` 包起来，可以变为斜体。"
   ]
  },
  {
   "cell_type": "markdown",
   "metadata": {},
   "source": [
    "_斜体文本_"
   ]
  },
  {
   "cell_type": "markdown",
   "metadata": {},
   "source": [
    "将文本用一对反单引号（ ` ）包起来，可以变为 Monospace 字体。"
   ]
  },
  {
   "cell_type": "markdown",
   "metadata": {},
   "source": [
    "`Monospace文本`"
   ]
  },
  {
   "cell_type": "markdown",
   "metadata": {},
   "source": [
    "将文本用一对 `~~` 包起来，可以增加删除线。"
   ]
  },
  {
   "cell_type": "markdown",
   "metadata": {},
   "source": [
    "~~删除文本~~"
   ]
  },
  {
   "cell_type": "markdown",
   "metadata": {},
   "source": [
    "将文本用中括号 `[]` 包起来，在其后用小括号 `()` 加入网址，可以增加链接。"
   ]
  },
  {
   "cell_type": "markdown",
   "metadata": {},
   "source": [
    "[链接到 OpenBayes 主页](https://openbayes.com/)"
   ]
  },
  {
   "cell_type": "markdown",
   "metadata": {},
   "source": [
    "将文本用中括号 `[]` 包起来，在其前加入 `!` ，在其后用小括号 `()` 加入图片地址，可以转换为图片。"
   ]
  },
  {
   "cell_type": "markdown",
   "metadata": {},
   "source": [
    "![An image](./image.jpg)"
   ]
  },
  {
   "cell_type": "markdown",
   "metadata": {},
   "source": [
    "使用`---`作为分割线。"
   ]
  },
  {
   "cell_type": "markdown",
   "metadata": {},
   "source": [
    "---"
   ]
  }
 ],
 "metadata": {
  "kernelspec": {
   "display_name": "Python 3",
   "language": "python",
   "name": "python3"
  },
  "language_info": {
   "codemirror_mode": {
    "name": "ipython",
    "version": 3
   },
   "file_extension": ".py",
   "mimetype": "text/x-python",
   "name": "python",
   "nbconvert_exporter": "python",
   "pygments_lexer": "ipython3",
   "version": "3.6.13"
  }
 },
 "nbformat": 4,
 "nbformat_minor": 4
}
