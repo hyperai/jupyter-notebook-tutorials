{
 "cells": [
  {
   "cell_type": "markdown",
   "metadata": {},
   "source": [
    "# 单元（Cells）在 Jupyter notebook 里的功能演示"
   ]
  },
  {
   "cell_type": "markdown",
   "metadata": {},
   "source": [
    "## Cells 的类型"
   ]
  },
  {
   "cell_type": "markdown",
   "metadata": {},
   "source": [
    "每个笔记本（notebook）都是由 cells 构成的。cells 的两种常见类型是代码（code）和文本（text），单击任一 cell 即可选中它。"
   ]
  },
  {
   "cell_type": "markdown",
   "metadata": {},
   "source": [
    "### Code Cells\n",
    "下方的就是一个 **code cell**，它通常由代码部分（In）和输出部分（Out）组成。<br>\n",
    "如果你正以只读方式浏览本教程，则无法对其进行修改，而在编辑模式下，你可以点击选中它并通过下列方法执行内容。\n",
    "###### 注：只读、编辑模式均指本 notebook，即 .ipynb 文件，而非 cells 的模式。\n",
    "\n",
    "* 使用 **Cmd/Ctrl + Enter** 快捷键运行，此操作会直接运行当前选中 cell；\n",
    "* 使用 **Shift + Enter** 快捷键运行，此操作会运行当前选中 cell 并将焦点转移至下一个 cell（即自动取消本 cell 的选中效果并选中下一个 cell）；\n",
    "* 使用 **Alt + Enter** 快捷键运行，此操作会运行当前 cell 并在其后加入一个新 cell；\n",
    "* 使用上方工具栏的三角图标（▶）运行，此操作默认情况下等同于使用 **Shift + Enter** 快捷键运行。\n",
    "\n",
    "在上方菜单栏的运行（Run）中有其他运行方式，可以运行部分或全部 cells。"
   ]
  },
  {
   "cell_type": "code",
   "execution_count": 1,
   "metadata": {
    "execution": {
     "iopub.execute_input": "2021-03-26T06:08:19.790476Z",
     "iopub.status.busy": "2021-03-26T06:08:19.789980Z",
     "iopub.status.idle": "2021-03-26T06:08:19.807565Z",
     "shell.execute_reply": "2021-03-26T06:08:19.806748Z",
     "shell.execute_reply.started": "2021-03-26T06:08:19.790414Z"
    }
   },
   "outputs": [
    {
     "name": "stdout",
     "output_type": "stream",
     "text": [
      "Hello world!\n"
     ]
    }
   ],
   "source": [
    "print(\"Hello world!\")"
   ]
  },
  {
   "cell_type": "markdown",
   "metadata": {},
   "source": [
    "### 文本单元（Text Cells）\n",
    "本 cell 即是一个 **text cell**。在编辑模式下，你可以双击来编辑这个 cell。text cell 使用标记语法（markdown syntax）。<br>\n",
    "运行 text cell 的操作与 code cell 相同，其区别在于解析内容的方法。在 [markdown 教程](./markdown.ipynb)中了解更多内容。<br>"
   ]
  },
  {
   "cell_type": "markdown",
   "metadata": {},
   "source": [
    "## Cells 的模式\n",
    "Cells 有两种模式，**选中模式**与**未选中模式**。<br>\n",
    "未选中模式下，将鼠标移至某 cell 左方，会出现一个蓝色条，鼠标移开蓝色条会消失。此模式下无法对 cell 进行处理。<br>\n",
    "选中模式下，该蓝色条会固定在 cell 的左侧。此模式下可以对 cell 进行添加、删除、移动、选择、合并等操作。<br>\n",
    "选中模式又分为两种模式，即**编辑模式**和**命令模式**。\n",
    "* 在编辑模式下，cell 的内容将以代码的形式展现，同时文本中出现光标；键入的内容会作为普通文本被录入 cell 的内容中；\n",
    "* 在命令模式下，cell 的内容可能以代码形式展现也有可能以渲染形式展现，文本中没有光标；键入的内容将作为命令而不会被录入到 cell 的内容中。"
   ]
  },
  {
   "cell_type": "markdown",
   "metadata": {},
   "source": [
    "### 添加和删除 cells\n",
    "使用上方工具栏的加号图标（+）添加一个新的 cell。<br>\n",
    "在命令模式下，按下字母 a(above)，会在当前 cell 上方增加一个新 cell；按下字母 b(blove)，会在当前 cell 下方增加一个 cell 。<br>\n",
    "在 cell 上使用右键可以删除，此外使用上述工具栏的剪刀图标（剪切）也可以做到删除 cell 的效果。<br>\n",
    "在命令模式下，按下字母 x 或连续两次按下字母 d，也可删除当前 cell。"
   ]
  },
  {
   "cell_type": "markdown",
   "metadata": {},
   "source": [
    "### 移动和选择 cells\n",
    "选中 cell 后，使用上方菜单栏中编辑（Edit）下的向上/下移动可以移动 cell。鼠标拖动左侧的蓝色条也可以进行任意移动。<br>\n",
    "单击 cell 可以将其选择，在面对较多 cells 的选择时，通过单击一个 cell，然后按住 Cmd/Ctrl 键同时单击另一个 cell，可以同时选择非相邻的 cells。类似地，使用 Shift 将选择两个 cells 及中间所有的 cells。"
   ]
  },
  {
   "cell_type": "markdown",
   "metadata": {},
   "source": [
    "### 其他 cells 操作\n",
    "合并和拆分 cells\n",
    "\n",
    "* 命令模式下，选中多个 cells，**Shift + M** 可以进行合并；\n",
    "* 编辑模式下，以光标所在之处为分界点，**Cmd/Ctrl + shift + 减号**，可以进行 cell 的拆分；\n",
    "* 在编辑菜单和右键选项中均可以进行此操作。\n",
    "\n",
    "切换 cells 类型\n",
    "\n",
    "* 在上方工具栏中，有一个下拉选项框，可以选择 cells 类型，code 对应 code cell，markdown 对应 text cell，raw 不常用，可用于语言转换；\n",
    "* 在命令模式下，按下m键，代表转为markdown，y键代表转为code，同理r键代表转为raw。\n",
    "\n",
    "折叠 cell\n",
    "\n",
    "* 在选中模式下，点击 cell 左侧的蓝色条，即可将其折叠；\n",
    "* 同理，折叠后点击蓝色条可以再次展开。"
   ]
  },
  {
   "cell_type": "markdown",
   "metadata": {},
   "source": [
    "# Code cells 的使用\n",
    "在 code cells 中，你可以完成许多工作，包括书写 Python 代码、使用系统命令以及其他酷炫的操作。\n",
    "###### 注：如果想了解 text cell 的使用，可以浏览 [markdown 教程](./markdown.ipynb)。"
   ]
  },
  {
   "cell_type": "markdown",
   "metadata": {},
   "source": [
    "* 你可以随时终止 cells 的运行。使用上方菜单栏中核心（Kernel）中的终止命令，或在 cells 的命令模式下连续两次按下字母 i(interrupt)。"
   ]
  },
  {
   "cell_type": "code",
   "execution_count": 2,
   "metadata": {
    "execution": {
     "iopub.execute_input": "2021-03-26T06:12:08.800353Z",
     "iopub.status.busy": "2021-03-26T06:12:08.799823Z",
     "iopub.status.idle": "2021-03-26T06:12:13.813264Z",
     "shell.execute_reply": "2021-03-26T06:12:13.811964Z",
     "shell.execute_reply.started": "2021-03-26T06:12:08.800290Z"
    }
   },
   "outputs": [
    {
     "name": "stdout",
     "output_type": "stream",
     "text": [
      "Sleeping\n",
      "Done Sleeping\n"
     ]
    }
   ],
   "source": [
    "import time\n",
    "print(\"Sleeping\")\n",
    "time.sleep(5)\n",
    "print(\"Done Sleeping\")\n",
    "\n",
    "# 你可以尝试终止本段代码的运行。"
   ]
  },
  {
   "cell_type": "markdown",
   "metadata": {},
   "source": [
    "## Python 代码\n",
    "我们的数据仓是基于 [Jupyter Notebook](https://jupyter.org/) 构建的。因此你不仅可以在这里像往常一样书写 Python 代码，还可以使用一些很方便的功能。"
   ]
  },
  {
   "cell_type": "markdown",
   "metadata": {},
   "source": [
    "* 你可以直接输入某个变量的名称来获取其对应内容。"
   ]
  },
  {
   "cell_type": "code",
   "execution_count": 3,
   "metadata": {
    "execution": {
     "iopub.execute_input": "2021-03-26T06:12:24.016601Z",
     "iopub.status.busy": "2021-03-26T06:12:24.016086Z",
     "iopub.status.idle": "2021-03-26T06:12:24.035389Z",
     "shell.execute_reply": "2021-03-26T06:12:24.034342Z",
     "shell.execute_reply.started": "2021-03-26T06:12:24.016543Z"
    }
   },
   "outputs": [
    {
     "data": {
      "text/plain": [
       "4"
      ]
     },
     "execution_count": 3,
     "metadata": {},
     "output_type": "execute_result"
    }
   ],
   "source": [
    "a = 3\n",
    "b = a + 1\n",
    "b"
   ]
  },
  {
   "cell_type": "markdown",
   "metadata": {},
   "source": [
    "* 你可以使用 Tab 进行自动填充，系统将自动匹配子模块、函数等内容，生成一个可供选择的列表。"
   ]
  },
  {
   "cell_type": "code",
   "execution_count": 4,
   "metadata": {
    "execution": {
     "iopub.execute_input": "2021-03-26T06:12:27.739182Z",
     "iopub.status.busy": "2021-03-26T06:12:27.738636Z",
     "iopub.status.idle": "2021-03-26T06:12:28.108478Z",
     "shell.execute_reply": "2021-03-26T06:12:28.107646Z",
     "shell.execute_reply.started": "2021-03-26T06:12:27.739119Z"
    }
   },
   "outputs": [],
   "source": [
    "import numpy as np\n",
    "\n",
    "# np.random.\n",
    "# np.random.rand(\n",
    "\n",
    "# 您可以使用上方的代码测试自动填充功能"
   ]
  },
  {
   "cell_type": "markdown",
   "metadata": {},
   "source": [
    "* 你可以使用 `?` 获取说明文档的内容，在要查询的内容后添加问号并运行 cell。"
   ]
  },
  {
   "cell_type": "code",
   "execution_count": 1,
   "metadata": {
    "execution": {
     "iopub.execute_input": "2021-04-01T12:50:10.510601Z",
     "iopub.status.busy": "2021-04-01T12:50:10.509998Z",
     "iopub.status.idle": "2021-04-01T12:50:10.528693Z",
     "shell.execute_reply": "2021-04-01T12:50:10.527714Z",
     "shell.execute_reply.started": "2021-04-01T12:50:10.510536Z"
    },
    "tags": []
   },
   "outputs": [
    {
     "data": {
      "text/plain": [
       "\u001b[0;31mDocstring:\u001b[0m\n",
       "print(value, ..., sep=' ', end='\\n', file=sys.stdout, flush=False)\n",
       "\n",
       "Prints the values to a stream, or to sys.stdout by default.\n",
       "Optional keyword arguments:\n",
       "file:  a file-like object (stream); defaults to the current sys.stdout.\n",
       "sep:   string inserted between values, default a space.\n",
       "end:   string appended after the last value, default a newline.\n",
       "flush: whether to forcibly flush the stream.\n",
       "\u001b[0;31mType:\u001b[0m      builtin_function_or_method\n"
      ]
     },
     "metadata": {},
     "output_type": "display_data"
    }
   ],
   "source": [
    "print?"
   ]
  },
  {
   "cell_type": "markdown",
   "metadata": {},
   "source": [
    "* 你可以通过运行代码后的报错信息快速修改调整。\n",
    "\n",
    "## 报错演示："
   ]
  },
  {
   "cell_type": "code",
   "execution_count": 6,
   "metadata": {
    "execution": {
     "iopub.execute_input": "2021-03-26T06:12:45.892743Z",
     "iopub.status.busy": "2021-03-26T06:12:45.892192Z",
     "iopub.status.idle": "2021-03-26T06:12:45.967216Z",
     "shell.execute_reply": "2021-03-26T06:12:45.966082Z",
     "shell.execute_reply.started": "2021-03-26T06:12:45.892679Z"
    }
   },
   "outputs": [
    {
     "ename": "ZeroDivisionError",
     "evalue": "division by zero",
     "output_type": "error",
     "traceback": [
      "\u001b[0;31m---------------------------------------------------------------------------\u001b[0m",
      "\u001b[0;31mZeroDivisionError\u001b[0m                         Traceback (most recent call last)",
      "\u001b[0;32m<ipython-input-6-1d1f7834dddc>\u001b[0m in \u001b[0;36m<module>\u001b[0;34m\u001b[0m\n\u001b[1;32m      2\u001b[0m \u001b[0mb\u001b[0m \u001b[0;34m=\u001b[0m \u001b[0;36m4\u001b[0m\u001b[0;34m\u001b[0m\u001b[0;34m\u001b[0m\u001b[0m\n\u001b[1;32m      3\u001b[0m \u001b[0mc\u001b[0m \u001b[0;34m=\u001b[0m \u001b[0ma\u001b[0m \u001b[0;34m+\u001b[0m \u001b[0mb\u001b[0m\u001b[0;34m\u001b[0m\u001b[0;34m\u001b[0m\u001b[0m\n\u001b[0;32m----> 4\u001b[0;31m \u001b[0md\u001b[0m \u001b[0;34m=\u001b[0m \u001b[0ma\u001b[0m \u001b[0;34m/\u001b[0m \u001b[0;36m0\u001b[0m\u001b[0;34m\u001b[0m\u001b[0;34m\u001b[0m\u001b[0m\n\u001b[0m\u001b[1;32m      5\u001b[0m \u001b[0me\u001b[0m \u001b[0;34m=\u001b[0m \u001b[0mb\u001b[0m \u001b[0;34m*\u001b[0m \u001b[0;36m2\u001b[0m\u001b[0;34m\u001b[0m\u001b[0;34m\u001b[0m\u001b[0m\n",
      "\u001b[0;31mZeroDivisionError\u001b[0m: division by zero"
     ]
    }
   ],
   "source": [
    "a = 3\n",
    "b = 4\n",
    "c = a + b\n",
    "d = a / 0\n",
    "e = b * 2"
   ]
  },
  {
   "cell_type": "markdown",
   "metadata": {},
   "source": [
    "## 系统命令\n",
    "我们的数据仓使用 Linux 系统，因此您可以在这里使用一些 Ubuntu 命令，如 `!ls`。"
   ]
  },
  {
   "cell_type": "code",
   "execution_count": 7,
   "metadata": {
    "execution": {
     "iopub.execute_input": "2021-03-26T06:12:49.718745Z",
     "iopub.status.busy": "2021-03-26T06:12:49.718270Z",
     "iopub.status.idle": "2021-03-26T06:12:50.353690Z",
     "shell.execute_reply": "2021-03-26T06:12:50.352204Z",
     "shell.execute_reply.started": "2021-03-26T06:12:49.718691Z"
    },
    "tags": []
   },
   "outputs": [
    {
     "name": "stdout",
     "output_type": "stream",
     "text": [
      "cells.ipynb  charts.ipynb  markdown.ipynb  openbayes-intro.ipynb\n"
     ]
    }
   ],
   "source": [
    "!ls"
   ]
  },
  {
   "cell_type": "markdown",
   "metadata": {},
   "source": [
    "使用 `!` 可以将 Python 中的字符串变量应用到命令中，而且还可以将结果赋值给变量。"
   ]
  },
  {
   "cell_type": "code",
   "execution_count": 8,
   "metadata": {
    "execution": {
     "iopub.execute_input": "2021-03-26T06:12:58.791519Z",
     "iopub.status.busy": "2021-03-26T06:12:58.790946Z",
     "iopub.status.idle": "2021-03-26T06:12:58.816829Z",
     "shell.execute_reply": "2021-03-26T06:12:58.815423Z",
     "shell.execute_reply.started": "2021-03-26T06:12:58.791452Z"
    }
   },
   "outputs": [
    {
     "data": {
      "text/plain": [
       "['$message', '$message']"
      ]
     },
     "execution_count": 8,
     "metadata": {},
     "output_type": "execute_result"
    }
   ],
   "source": [
    "message = 'OpenBayes is great!'\n",
    "foo = !echo -e '$message\\n$message'\n",
    "foo"
   ]
  },
  {
   "cell_type": "markdown",
   "metadata": {},
   "source": [
    "## 魔法命令（Magics）\n",
    "你可以使用 Jupyter 提供的 magics，比如改变 cells 的文本执行方式。在 [Jupyter's magics page](http://nbviewer.jupyter.org/github/ipython/ipython/blob/1.x/examples/notebooks/Cell%20Magics.ipynb) 中了解更多内容。"
   ]
  },
  {
   "cell_type": "code",
   "execution_count": 9,
   "metadata": {
    "execution": {
     "iopub.execute_input": "2021-03-26T06:13:02.016665Z",
     "iopub.status.busy": "2021-03-26T06:13:02.016076Z",
     "iopub.status.idle": "2021-03-26T06:13:02.026345Z",
     "shell.execute_reply": "2021-03-26T06:13:02.025193Z",
     "shell.execute_reply.started": "2021-03-26T06:13:02.016599Z"
    }
   },
   "outputs": [
    {
     "data": {
      "text/html": [
       "<marquee style='width: 30%; color: blue;'><b>Whee!</b></marquee>\n"
      ],
      "text/plain": [
       "<IPython.core.display.HTML object>"
      ]
     },
     "metadata": {},
     "output_type": "display_data"
    }
   ],
   "source": [
    "%%html\n",
    "<marquee style='width: 30%; color: blue;'><b>Whee!</b></marquee>"
   ]
  },
  {
   "cell_type": "code",
   "execution_count": 10,
   "metadata": {
    "execution": {
     "iopub.execute_input": "2021-03-26T06:13:03.481897Z",
     "iopub.status.busy": "2021-03-26T06:13:03.481223Z",
     "iopub.status.idle": "2021-03-26T06:13:03.489822Z",
     "shell.execute_reply": "2021-03-26T06:13:03.488680Z",
     "shell.execute_reply.started": "2021-03-26T06:13:03.481834Z"
    }
   },
   "outputs": [
    {
     "data": {
      "text/html": [
       "<svg xmlns=\"http://www.w3.org/2000/svg\" viewBox=\"0 0 450 400\" width=\"200\" height=\"200\">\n",
       "  <rect x=\"80\" y=\"60\" width=\"250\" height=\"250\" rx=\"20\" style=\"fill:red; stroke:black; fill-opacity:0.7\" />\n",
       "  <rect x=\"180\" y=\"110\" width=\"250\" height=\"250\" rx=\"40\" style=\"fill:blue; stroke:black; fill-opacity:0.5;\" />\n",
       "</svg>\n"
      ],
      "text/plain": [
       "<IPython.core.display.HTML object>"
      ]
     },
     "metadata": {},
     "output_type": "display_data"
    }
   ],
   "source": [
    "%%html\n",
    "<svg xmlns=\"http://www.w3.org/2000/svg\" viewBox=\"0 0 450 400\" width=\"200\" height=\"200\">\n",
    "  <rect x=\"80\" y=\"60\" width=\"250\" height=\"250\" rx=\"20\" style=\"fill:red; stroke:black; fill-opacity:0.7\" />\n",
    "  <rect x=\"180\" y=\"110\" width=\"250\" height=\"250\" rx=\"40\" style=\"fill:blue; stroke:black; fill-opacity:0.5;\" />\n",
    "</svg>"
   ]
  },
  {
   "cell_type": "markdown",
   "metadata": {},
   "source": [
    "## 输出非文本\n",
    "运行 cells 除了可以得到文本输出外，还可以得到其他更有趣的输出。"
   ]
  },
  {
   "cell_type": "code",
   "execution_count": 11,
   "metadata": {
    "execution": {
     "iopub.execute_input": "2021-03-26T06:13:08.624868Z",
     "iopub.status.busy": "2021-03-26T06:13:08.624290Z",
     "iopub.status.idle": "2021-03-26T06:13:09.356367Z",
     "shell.execute_reply": "2021-03-26T06:13:09.355764Z",
     "shell.execute_reply.started": "2021-03-26T06:13:08.624802Z"
    }
   },
   "outputs": [
    {
     "data": {
      "image/png": "[encoded data removed]",
      "text/plain": [
       "<Figure size 432x288 with 1 Axes>"
      ]
     },
     "metadata": {
      "needs_background": "light"
     },
     "output_type": "display_data"
    }
   ],
   "source": [
    "import numpy as np\n",
    "from matplotlib import pyplot as plt\n",
    "\n",
    "ys = 200 + np.random.randn(100)\n",
    "x = [x for x in range(len(ys))]\n",
    "\n",
    "plt.plot(x, ys, '-')\n",
    "plt.fill_between(x, ys, 195, where=(ys > 195), facecolor='g', alpha=0.6)\n",
    "\n",
    "plt.title(\"Fills and Alpha Example\")\n",
    "plt.show()"
   ]
  }
 ],
 "metadata": {
  "kernelspec": {
   "display_name": "Python 3",
   "language": "python",
   "name": "python3"
  },
  "language_info": {
   "codemirror_mode": {
    "name": "ipython",
    "version": 3
   },
   "file_extension": ".py",
   "mimetype": "text/x-python",
   "name": "python",
   "nbconvert_exporter": "python",
   "pygments_lexer": "ipython3",
   "version": "3.6.13"
  }
 },
 "nbformat": 4,
 "nbformat_minor": 4
}
